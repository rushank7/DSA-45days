{
 "cells": [
  {
   "cell_type": "code",
   "execution_count": 2,
   "metadata": {},
   "outputs": [],
   "source": [
    "def zeromatrix(matrix,n,m):\n",
    "\n",
    "    col0 = 1\n",
    "\n",
    "    # Step 1\n",
    "    for i in range(n):\n",
    "        for j in range(m):\n",
    "            if matrix[i][j] == 0:\n",
    "                matrix[i][0] = 0\n",
    "\n",
    "                if j != 0:\n",
    "                    matrix[0][j] = 0\n",
    "                else:\n",
    "                    col0 = 0\n",
    "\n",
    "    # Step 2\n",
    "    for i in range(1,n):\n",
    "        for j in range(1,m):\n",
    "            if matrix[i][j] != 0:\n",
    "                if matrix[i][0] == 0 or matrix[0][j] == 0:\n",
    "                    matrix[i][j] = 0\n",
    "\n",
    "    # Step 3 \n",
    "    if matrix[0][0] == 0:\n",
    "        for j in range(m):\n",
    "            matrix[0][j] = 0\n",
    "    if col0 == 0:\n",
    "        for i in range(n):\n",
    "            matrix[i][0] = 0\n",
    "    return matrix"
   ]
  },
  {
   "cell_type": "code",
   "execution_count": 7,
   "metadata": {},
   "outputs": [
    {
     "name": "stdout",
     "output_type": "stream",
     "text": [
      "The final matrix is:\n",
      "101\n",
      "000\n",
      "101\n"
     ]
    }
   ],
   "source": [
    "if __name__ == \"__main__\":\n",
    "    matrix = [[1,1,1],[1,0,1],[1,1,1]]\n",
    "    n = len(matrix)\n",
    "    m = len(matrix[0])\n",
    "    ans = zeromatrix(matrix,n,m)\n",
    "\n",
    "    print(\"The final matrix is:\")\n",
    "    for row in ans:\n",
    "        for ele in row:\n",
    "            print(ele, end = \"\")\n",
    "        print()"
   ]
  },
  {
   "cell_type": "code",
   "execution_count": 9,
   "metadata": {},
   "outputs": [
    {
     "name": "stdout",
     "output_type": "stream",
     "text": [
      "[1, 0, 1]\n",
      "[0, 0, 0]\n",
      "[1, 0, 1]\n"
     ]
    }
   ],
   "source": [
    "for row in matrix:\n",
    "    print(row, end = \"\")\n",
    "    print()"
   ]
  }
 ],
 "metadata": {
  "kernelspec": {
   "display_name": "Python 3",
   "language": "python",
   "name": "python3"
  },
  "language_info": {
   "codemirror_mode": {
    "name": "ipython",
    "version": 3
   },
   "file_extension": ".py",
   "mimetype": "text/x-python",
   "name": "python",
   "nbconvert_exporter": "python",
   "pygments_lexer": "ipython3",
   "version": "3.9.13"
  }
 },
 "nbformat": 4,
 "nbformat_minor": 2
}
